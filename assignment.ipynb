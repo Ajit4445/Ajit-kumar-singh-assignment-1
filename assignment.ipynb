{
 "cells": [
  {
   "cell_type": "code",
   "execution_count": 2,
   "id": "305595ae-2b27-4f08-a7b6-c377c965a0d9",
   "metadata": {},
   "outputs": [],
   "source": [
    "var = ['a',8,'ajit',25.26,]"
   ]
  },
  {
   "cell_type": "code",
   "execution_count": 3,
   "id": "a433dfc1-30ed-4b61-8749-1bc22f954c68",
   "metadata": {},
   "outputs": [
    {
     "name": "stdout",
     "output_type": "stream",
     "text": [
      "<class 'str'>\n"
     ]
    }
   ],
   "source": [
    "var1 = ''\n",
    "print(type(var1))"
   ]
  },
  {
   "cell_type": "code",
   "execution_count": 4,
   "id": "7df8a4b1-cd5f-49f5-ad0a-5c6939d632fa",
   "metadata": {},
   "outputs": [
    {
     "name": "stdout",
     "output_type": "stream",
     "text": [
      "<class 'str'>\n"
     ]
    }
   ],
   "source": [
    "var2 = '[DS ,ML ,Python]'\n",
    "print(type(var2))"
   ]
  },
  {
   "cell_type": "code",
   "execution_count": 7,
   "id": "3fefcd48-46e7-49df-b259-1ebaba10b347",
   "metadata": {},
   "outputs": [
    {
     "name": "stdout",
     "output_type": "stream",
     "text": [
      "<class 'list'>\n"
     ]
    }
   ],
   "source": [
    "var3 = ['DS','ML','Python']\n",
    "print(type(var3))"
   ]
  },
  {
   "cell_type": "code",
   "execution_count": 10,
   "id": "ed111f87-b5f0-4fea-9031-1637a08d2689",
   "metadata": {},
   "outputs": [
    {
     "name": "stdout",
     "output_type": "stream",
     "text": [
      "<class 'int'>\n"
     ]
    }
   ],
   "source": [
    "var4 = 1\n",
    "print(type(var4))"
   ]
  },
  {
   "cell_type": "code",
   "execution_count": 11,
   "id": "cebb90af-d0d0-4873-b78b-f99c04f16be0",
   "metadata": {},
   "outputs": [
    {
     "data": {
      "text/plain": [
       "5.0"
      ]
     },
     "execution_count": 11,
     "metadata": {},
     "output_type": "execute_result"
    }
   ],
   "source": [
    "10/2"
   ]
  },
  {
   "cell_type": "code",
   "execution_count": 15,
   "id": "42742917-f96c-456e-859f-bee2d3fe5d8a",
   "metadata": {},
   "outputs": [
    {
     "data": {
      "text/plain": [
       "3"
      ]
     },
     "execution_count": 15,
     "metadata": {},
     "output_type": "execute_result"
    }
   ],
   "source": [
    "3%9"
   ]
  },
  {
   "cell_type": "code",
   "execution_count": 17,
   "id": "4ec91a0c-11fd-449a-af2c-907eefa76bd3",
   "metadata": {},
   "outputs": [
    {
     "data": {
      "text/plain": [
       "2"
      ]
     },
     "execution_count": 17,
     "metadata": {},
     "output_type": "execute_result"
    }
   ],
   "source": [
    "10//5"
   ]
  },
  {
   "cell_type": "code",
   "execution_count": 20,
   "id": "743c0f09-faa2-4e10-b97e-267350e64eed",
   "metadata": {},
   "outputs": [
    {
     "data": {
      "text/plain": [
       "125"
      ]
     },
     "execution_count": 20,
     "metadata": {},
     "output_type": "execute_result"
    }
   ],
   "source": [
    "5**3"
   ]
  },
  {
   "cell_type": "code",
   "execution_count": 23,
   "id": "de94cb75-c840-415b-a51e-e2df9bd17f6d",
   "metadata": {},
   "outputs": [
    {
     "name": "stdout",
     "output_type": "stream",
     "text": [
      "<class 'int'>\n",
      "1\n",
      "<class 'str'>\n",
      "a\n",
      "<class 'float'>\n",
      "25.35\n",
      "<class 'str'>\n",
      "ajit\n",
      "<class 'int'>\n",
      "2\n",
      "<class 'int'>\n",
      "5\n",
      "<class 'int'>\n",
      "3\n",
      "<class 'int'>\n",
      "2\n",
      "<class 'int'>\n",
      "8\n",
      "<class 'int'>\n",
      "10\n"
     ]
    }
   ],
   "source": [
    "l = [1,'a',25.35,'ajit',2,5,3,2,8,10]\n",
    "for i in l:\n",
    "    print(type(i))\n",
    "    print(i)"
   ]
  },
  {
   "cell_type": "code",
   "execution_count": 29,
   "id": "ba3edf8e-1403-4c8d-8ea4-3c1f532c150c",
   "metadata": {},
   "outputs": [
    {
     "name": "stdout",
     "output_type": "stream",
     "text": [
      "number a is divisible b\n",
      "it can be divided 1 Times\n"
     ]
    }
   ],
   "source": [
    "a = 30\n",
    "b = 3\n",
    "count = 0\n",
    "while a % b == 0:\n",
    "    a = a/b\n",
    "    count += 1\n",
    "if a > 1:\n",
    "    print(\"number a is divisible b\")\n",
    "    print(\"it can be divided\", count , \"Times\")\n"
   ]
  },
  {
   "cell_type": "code",
   "execution_count": 32,
   "id": "f916ea2e-78eb-4300-becf-28994de14d2e",
   "metadata": {},
   "outputs": [
    {
     "name": "stdout",
     "output_type": "stream",
     "text": [
      "Not Divisible by 3\n",
      "Not Divisible by 3\n",
      "Divisible by 3\n",
      "Not Divisible by 3\n",
      "Not Divisible by 3\n",
      "Divisible by 3\n",
      "Not Divisible by 3\n",
      "Not Divisible by 3\n",
      "Divisible by 3\n",
      "Not Divisible by 3\n",
      "Not Divisible by 3\n",
      "Divisible by 3\n",
      "Not Divisible by 3\n",
      "Not Divisible by 3\n",
      "Divisible by 3\n",
      "Not Divisible by 3\n",
      "Not Divisible by 3\n",
      "Divisible by 3\n",
      "Not Divisible by 3\n",
      "Not Divisible by 3\n",
      "Divisible by 3\n",
      "Not Divisible by 3\n",
      "Not Divisible by 3\n",
      "Divisible by 3\n",
      "Not Divisible by 3\n"
     ]
    }
   ],
   "source": [
    "l = [1,2,3,4,5,6,7,8,9,10,11,12,13,14,15,16,17,18,19,20,21,22,23,24,25]\n",
    "for i in l:\n",
    "    if i%3 ==0:\n",
    "        print(\"Divisible by 3\")\n",
    "    else:\n",
    "        print(\"Not Divisible by 3\")"
   ]
  },
  {
   "cell_type": "code",
   "execution_count": 36,
   "id": "8ae52994-ea95-43e9-9718-435fe3985088",
   "metadata": {},
   "outputs": [
    {
     "name": "stdout",
     "output_type": "stream",
     "text": [
      "[12, 13, 50]\n"
     ]
    }
   ],
   "source": [
    "list1 = [12,13,14]\n",
    "list1[2] = 50\n",
    "print(list1)"
   ]
  },
  {
   "cell_type": "code",
   "execution_count": 37,
   "id": "a4675e33-a56a-4189-8eb8-2c38038657be",
   "metadata": {},
   "outputs": [
    {
     "ename": "TypeError",
     "evalue": "'set' object does not support item assignment",
     "output_type": "error",
     "traceback": [
      "\u001b[0;31m---------------------------------------------------------------------------\u001b[0m",
      "\u001b[0;31mTypeError\u001b[0m                                 Traceback (most recent call last)",
      "Cell \u001b[0;32mIn[37], line 2\u001b[0m\n\u001b[1;32m      1\u001b[0m tup \u001b[38;5;241m=\u001b[39m {\u001b[38;5;241m12\u001b[39m, \u001b[38;5;241m13\u001b[39m,\u001b[38;5;241m13\u001b[39m}\n\u001b[0;32m----> 2\u001b[0m \u001b[43mtup\u001b[49m\u001b[43m[\u001b[49m\u001b[38;5;241;43m2\u001b[39;49m\u001b[43m]\u001b[49m \u001b[38;5;241m=\u001b[39m \u001b[38;5;241m50\u001b[39m\n\u001b[1;32m      3\u001b[0m \u001b[38;5;28mprint\u001b[39m(tup)\n",
      "\u001b[0;31mTypeError\u001b[0m: 'set' object does not support item assignment"
     ]
    }
   ],
   "source": [
    "tup = {12, 13,13}\n",
    "tup[2] = 50\n",
    "print(tup)"
   ]
  },
  {
   "cell_type": "code",
   "execution_count": null,
   "id": "405dce63-0e5a-43f2-8174-d78a195ef790",
   "metadata": {},
   "outputs": [],
   "source": []
  }
 ],
 "metadata": {
  "kernelspec": {
   "display_name": "Python 3 (ipykernel)",
   "language": "python",
   "name": "python3"
  },
  "language_info": {
   "codemirror_mode": {
    "name": "ipython",
    "version": 3
   },
   "file_extension": ".py",
   "mimetype": "text/x-python",
   "name": "python",
   "nbconvert_exporter": "python",
   "pygments_lexer": "ipython3",
   "version": "3.10.8"
  }
 },
 "nbformat": 4,
 "nbformat_minor": 5
}
